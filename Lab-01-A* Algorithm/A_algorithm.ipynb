{
  "nbformat": 4,
  "nbformat_minor": 0,
  "metadata": {
    "colab": {
      "provenance": []
    },
    "kernelspec": {
      "name": "python3",
      "display_name": "Python 3"
    },
    "language_info": {
      "name": "python"
    }
  },
  "cells": [
    {
      "cell_type": "code",
      "execution_count": null,
      "metadata": {
        "id": "NFZTBbS5otPY",
        "collapsed": true
      },
      "outputs": [],
      "source": [
        "import queue\n",
        "import heapq as hq\n",
        "from queue import PriorityQueue\n",
        "\n",
        "def AstarAlgorithm(V, adj_list, parent_heuristic, main_node, source, target):\n",
        "    parent = [-1] * V\n",
        "    min_heap = PriorityQueue()\n",
        "    distance = [float('inf')] * V\n",
        "    distance[source] = 0\n",
        "    min_heap.put((parent_heuristic[main_node[source]][0], source))\n",
        "\n",
        "    while not min_heap.empty():\n",
        "        Priority_Element = min_heap.get()\n",
        "        node = Priority_Element[1]\n",
        "        if node == target:\n",
        "            path = []\n",
        "            current = node\n",
        "            while current != -1:\n",
        "                path.append(main_node[current])\n",
        "                current = parent[current]\n",
        "            path.reverse()\n",
        "            output = \"Path:\", \" -> \".join(path)\n",
        "            out_f.write(f\"Path: { '->'.join(path)} \\nTotal distance: {distance[target]}\")\n",
        "            return\n",
        "\n",
        "        for i in adj_list[node]:\n",
        "            adj_node_name = i[0]\n",
        "            adj_node_distance = i[1]\n",
        "            adj_node = parent_heuristic[adj_node_name][1]\n",
        "            heuristic_value = parent_heuristic[adj_node_name][0]\n",
        "\n",
        "            new_cost = distance[node] + adj_node_distance\n",
        "            if new_cost < distance[adj_node]:\n",
        "                parent[adj_node] = node\n",
        "                distance[adj_node] = new_cost\n",
        "                min_heap.put((new_cost + heuristic_value, adj_node))\n",
        "    print(\"NO PATH FOUND\")\n",
        "\n",
        "\n",
        "## Drive_Code_Which_I_MADE_______________________________________________________\n",
        "with open(\"/content/output.txt\", \"w\") as out_f:\n",
        " with open(\"/content/input.txt\", \"r\") as inp_f:\n",
        "        read = inp_f.read().split(\"\\n\")\n",
        "        node = []\n",
        "        parent_arr = {}\n",
        "        arr = []\n",
        "        count = 0\n",
        "\n",
        "        for i in read:\n",
        "            temp = i.split()\n",
        "            if not temp:\n",
        "                continue\n",
        "            node.append(temp[0])\n",
        "            parent_arr[temp[0]] = (int(temp[1]), count)\n",
        "            count += 1\n",
        "            val = []\n",
        "            for j in range(2, len(temp), 2):\n",
        "                val.append((temp[j], int(temp[j+1])))\n",
        "            arr.append(val)\n",
        "        AstarAlgorithm(len(arr), arr, parent_arr, node, 0, len(arr)-1)"
      ]
    }
  ]
}